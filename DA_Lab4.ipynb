{
 "cells": [
  {
   "cell_type": "code",
   "execution_count": 55,
   "metadata": {},
   "outputs": [],
   "source": [
    "import pystan\n",
    "import stan_utility\n",
    "\n",
    "import arviz as az\n",
    "import matplotlib.pyplot as plt\n",
    "import matplotlib as mpl\n",
    "\n",
    "import numpy as np\n",
    "import scipy.stats as stats\n",
    "import seaborn as sb\n",
    "import pandas as pd\n",
    "\n",
    "dark = \"#EECA02\"\n",
    "dark_highlight = \"#BB9700\"\n"
   ]
  },
  {
   "cell_type": "code",
   "execution_count": 62,
   "metadata": {},
   "outputs": [
    {
     "data": {
      "text/html": [
       "<div>\n",
       "<style scoped>\n",
       "    .dataframe tbody tr th:only-of-type {\n",
       "        vertical-align: middle;\n",
       "    }\n",
       "\n",
       "    .dataframe tbody tr th {\n",
       "        vertical-align: top;\n",
       "    }\n",
       "\n",
       "    .dataframe thead th {\n",
       "        text-align: right;\n",
       "    }\n",
       "</style>\n",
       "<table border=\"1\" class=\"dataframe\">\n",
       "  <thead>\n",
       "    <tr style=\"text-align: right;\">\n",
       "      <th></th>\n",
       "      <th>Fatal accidents</th>\n",
       "      <th>Passenger deaths</th>\n",
       "      <th>Death rate</th>\n",
       "      <th>Miles flown [100 mln miles]</th>\n",
       "    </tr>\n",
       "    <tr>\n",
       "      <th>Year</th>\n",
       "      <th></th>\n",
       "      <th></th>\n",
       "      <th></th>\n",
       "      <th></th>\n",
       "    </tr>\n",
       "  </thead>\n",
       "  <tbody>\n",
       "    <tr>\n",
       "      <td>1976</td>\n",
       "      <td>24</td>\n",
       "      <td>734</td>\n",
       "      <td>0.19</td>\n",
       "      <td>3863.0</td>\n",
       "    </tr>\n",
       "    <tr>\n",
       "      <td>1977</td>\n",
       "      <td>25</td>\n",
       "      <td>516</td>\n",
       "      <td>0.12</td>\n",
       "      <td>4300.0</td>\n",
       "    </tr>\n",
       "    <tr>\n",
       "      <td>1978</td>\n",
       "      <td>31</td>\n",
       "      <td>754</td>\n",
       "      <td>0.15</td>\n",
       "      <td>5027.0</td>\n",
       "    </tr>\n",
       "    <tr>\n",
       "      <td>1979</td>\n",
       "      <td>31</td>\n",
       "      <td>877</td>\n",
       "      <td>0.16</td>\n",
       "      <td>5481.0</td>\n",
       "    </tr>\n",
       "    <tr>\n",
       "      <td>1980</td>\n",
       "      <td>22</td>\n",
       "      <td>814</td>\n",
       "      <td>0.14</td>\n",
       "      <td>5814.0</td>\n",
       "    </tr>\n",
       "    <tr>\n",
       "      <td>1981</td>\n",
       "      <td>21</td>\n",
       "      <td>362</td>\n",
       "      <td>0.06</td>\n",
       "      <td>6033.0</td>\n",
       "    </tr>\n",
       "    <tr>\n",
       "      <td>1982</td>\n",
       "      <td>26</td>\n",
       "      <td>764</td>\n",
       "      <td>0.13</td>\n",
       "      <td>5877.0</td>\n",
       "    </tr>\n",
       "    <tr>\n",
       "      <td>1983</td>\n",
       "      <td>20</td>\n",
       "      <td>809</td>\n",
       "      <td>0.13</td>\n",
       "      <td>6223.0</td>\n",
       "    </tr>\n",
       "    <tr>\n",
       "      <td>1984</td>\n",
       "      <td>16</td>\n",
       "      <td>223</td>\n",
       "      <td>0.03</td>\n",
       "      <td>7433.0</td>\n",
       "    </tr>\n",
       "    <tr>\n",
       "      <td>1985</td>\n",
       "      <td>22</td>\n",
       "      <td>1066</td>\n",
       "      <td>0.15</td>\n",
       "      <td>7107.0</td>\n",
       "    </tr>\n",
       "  </tbody>\n",
       "</table>\n",
       "</div>"
      ],
      "text/plain": [
       "      Fatal accidents  Passenger deaths  Death rate  \\\n",
       "Year                                                  \n",
       "1976               24               734        0.19   \n",
       "1977               25               516        0.12   \n",
       "1978               31               754        0.15   \n",
       "1979               31               877        0.16   \n",
       "1980               22               814        0.14   \n",
       "1981               21               362        0.06   \n",
       "1982               26               764        0.13   \n",
       "1983               20               809        0.13   \n",
       "1984               16               223        0.03   \n",
       "1985               22              1066        0.15   \n",
       "\n",
       "      Miles flown [100 mln miles]  \n",
       "Year                               \n",
       "1976                       3863.0  \n",
       "1977                       4300.0  \n",
       "1978                       5027.0  \n",
       "1979                       5481.0  \n",
       "1980                       5814.0  \n",
       "1981                       6033.0  \n",
       "1982                       5877.0  \n",
       "1983                       6223.0  \n",
       "1984                       7433.0  \n",
       "1985                       7107.0  "
      ]
     },
     "execution_count": 62,
     "metadata": {},
     "output_type": "execute_result"
    }
   ],
   "source": [
    "FatalAccidents = [24,25,31,31,22,21,26,20,16,22]\n",
    "PassengerDeaths = [734,516,754,877,814,362,764,809,223,1066]\n",
    "DeathRate = [0.19,0.12,0.15,0.16,0.14,0.06,0.13,0.13,0.03,0.15]\n",
    "MilesFlown = [3863.0,4300.0,5027.0,5481.0,5814.0,6033.0,5877.0,6223.0,7433.0,7107.0]\n",
    "\n",
    "AccidentsData = pd.DataFrame({'Year': [1976,1977,1978,1979,1980,1981,1982,1983,1984,1985],\n",
    "                              'Fatal accidents': FatalAccidents,\n",
    "                              'Passenger deaths': PassengerDeaths,\n",
    "                              'Death rate': DeathRate,\n",
    "                              'Miles flown [100 mln miles]': MilesFlown}).set_index('Year')\n",
    "\n",
    "acc=[]\n",
    "data_cnt=[]\n",
    "for i in AccidentsData['Fatal accidents']:  \n",
    "    data_cnt.append(-(1.+acc.count(i)))\n",
    "    acc.append(i)\n",
    "data_cnt=np.array(data_cnt)\n",
    "\n",
    "AccidentsData"
   ]
  },
  {
   "cell_type": "code",
   "execution_count": 16,
   "metadata": {},
   "outputs": [
    {
     "name": "stdout",
     "output_type": "stream",
     "text": [
      "[312.]\n"
     ]
    }
   ],
   "source": [
    "#We assume death rate is constant and doesn't deppend on anything\n",
    "#getting lambda upper bound\n",
    "root_of_lam = np.polynomial.polynomial.polyroots([-365.,3.,1.])\n",
    "lam_ub = np.round(root_of_lam[root_of_lam>0]**2)\n",
    "print(lam_ub)"
   ]
  },
  {
   "cell_type": "code",
   "execution_count": 2,
   "metadata": {},
   "outputs": [
    {
     "name": "stdout",
     "output_type": "stream",
     "text": [
      "functions{\n",
      "  vector tail_delta(vector y, vector theta, real[] x_r, int[] x_i){\n",
      "    vector[1] deltas;\n",
      "    deltas[1] = 2 * (normal_cdf(theta[1], 0, exp(y[1])) - 0.5) - 0.99;\n",
      "    return deltas;\n",
      "  }\n",
      "  data{\n",
      "    vector[1] y_guess;\n",
      "    vector[1] theta;\n",
      "  }\n",
      "  transformed data{\n",
      "    vector[1] y;\n",
      "    real x_r[0];\n",
      "    int x_i[0];\n",
      "\n",
      "    y = algebra_solver(tail_delta, y_guess, theta, x_r, x_i);\n",
      "\n",
      "    print(\"Standard deviation = \", exp(y[1]));\n",
      "  }\n",
      "  generated quantities{\n",
      "    real sigma = exp(y[1]);\n",
      "  }\n",
      "}\n",
      "\n"
     ]
    }
   ],
   "source": [
    "#prior tuning\n",
    "#i will use half normal distribution to find sigma\n",
    "\n",
    "with open('Prior.stan', 'r') as file:\n",
    "    print(file.read())"
   ]
  },
  {
   "cell_type": "code",
   "execution_count": 10,
   "metadata": {},
   "outputs": [
    {
     "name": "stdout",
     "output_type": "stream",
     "text": [
      "Using cached StanModel\n"
     ]
    }
   ],
   "source": [
    "tuning = stan_utility.compile_model('Prior.stan')"
   ]
  },
  {
   "cell_type": "code",
   "execution_count": 17,
   "metadata": {},
   "outputs": [
    {
     "name": "stdout",
     "output_type": "stream",
     "text": [
      "121.0\n"
     ]
    }
   ],
   "source": [
    "data = dict(y_guess = np.array([np.log(100)]), theta = np.array(lam_ub))\n",
    "tuned = tuning.sampling(data = data,\n",
    "                       seed = 20062020,\n",
    "                       algorithm = \"Fixed_param\",\n",
    "                       iter = 1,\n",
    "                       warmup =0,\n",
    "                       chains = 1)\n",
    "sigma = np.round(tuned.extract()['sigma'][0])\n",
    "print(sigma)"
   ]
  },
  {
   "cell_type": "code",
   "execution_count": 27,
   "metadata": {},
   "outputs": [
    {
     "data": {
      "image/png": "[encoded data removed]",
      "text/plain": [
       "<Figure size 504x288 with 1 Axes>"
      ]
     },
     "metadata": {
      "needs_background": "light"
     },
     "output_type": "display_data"
    }
   ],
   "source": [
    "fig, ax2 = plt.subplots(1,1,figsize=(7,4))\n",
    "x2=np.linspace(0,3*sigma,1000)\n",
    "x4=np.linspace(0,lam_ub[0],1000)\n",
    "ax2.plot(x4,2*stats.norm.pdf(x2,scale=sigma), color=dark, linewidth=2)\n",
    "ax2.fill_between(x4,2*stats.norm.pdf(x4,scale=sigma),0, color=dark)\n",
    "ax2.set_yticks([])\n",
    "ax2.set_xticks([0,lam_ub[0]])\n",
    "ax2.set_title(r'$\\lambda$')\n",
    "plt.show()"
   ]
  },
  {
   "cell_type": "code",
   "execution_count": 23,
   "metadata": {},
   "outputs": [
    {
     "name": "stdout",
     "output_type": "stream",
     "text": [
      "data {\n",
      "  int M; //number of years analyzed\n",
      "}\n",
      "\n",
      "generated quantities {\n",
      "  real lambda = fabs(normal_rng(0,121));\n",
      "  int y_sim[M];\n",
      "  for (i in 1:M) {\n",
      "    y_sim[i] = poisson_rng(lambda);\n",
      "  }\n",
      "}\n",
      "\n"
     ]
    }
   ],
   "source": [
    "with open('hnorm_PPC.stan', 'r') as file:\n",
    "    print(file.read())"
   ]
  },
  {
   "cell_type": "code",
   "execution_count": 30,
   "metadata": {},
   "outputs": [
    {
     "name": "stdout",
     "output_type": "stream",
     "text": [
      "Using cached StanModel\n"
     ]
    }
   ],
   "source": [
    "model_prior=stan_utility.compile_model('hnorm_PPC.stan')"
   ]
  },
  {
   "cell_type": "code",
   "execution_count": 31,
   "metadata": {},
   "outputs": [],
   "source": [
    "sim_uf = model_prior.sampling(data={'M':1},\n",
    "                             algorithm=\"Fixed_param\",\n",
    "                             iter=1000,\n",
    "                             warmup=0,\n",
    "                             chains=1,\n",
    "                             refresh=1000,\n",
    "                             seed=20062020)"
   ]
  },
  {
   "cell_type": "code",
   "execution_count": null,
   "metadata": {},
   "outputs": [],
   "source": []
  },
  {
   "cell_type": "code",
   "execution_count": 63,
   "metadata": {},
   "outputs": [
    {
     "data": {
      "image/png": "[encoded data removed]",
      "text/plain": [
       "<Figure size 504x576 with 2 Axes>"
      ]
     },
     "metadata": {
      "needs_background": "light"
     },
     "output_type": "display_data"
    }
   ],
   "source": [
    "params=sim_uf.extract()\n",
    "theta=params['lambda']\n",
    "y_sim=params['y_sim']\n",
    "\n",
    "fig, axes = plt.subplots(2,1,figsize=(7,8))\n",
    "ax1=axes[0]\n",
    "ax1.hist(theta,bins=20,color=dark,edgecolor=dark_highlight, density=True)\n",
    "x=np.linspace(0,350,2000)\n",
    "ax1.set_xticks([0,lam_ub[0]])\n",
    "ax1.set_yticks([])\n",
    "ax1.set_title(r'$\\lambda$')\n",
    "ax1.plot(x,2*stats.norm.pdf(x,0,sigma), color='black', linestyle='--')\n",
    "arr_y_loc = 2*stats.norm.pdf(150,0,sigma)\n",
    "ax1.annotate('HalfNormal(0,'+str(np.int(sigma))+')', xy=(150,arr_y_loc))\n",
    "ax2=axes[1]\n",
    "ax2.hist(y_sim.flatten(), color=dark, edgecolor=dark_highlight, density=True, bins=20)\n",
    "ax2.scatter(acc,0.0002*data_cnt,color='black', marker='.',zorder=2)\n",
    "ax2.set_xticks([0,365])\n",
    "ax2.set_yticks([])\n",
    "ax2.set_title('Number of accidents')\n",
    "\n",
    "plt.show()\n",
    "\n",
    "#out model seems to be reasonable with data"
   ]
  },
  {
   "cell_type": "code",
   "execution_count": 65,
   "metadata": {},
   "outputs": [
    {
     "name": "stdout",
     "output_type": "stream",
     "text": [
      "data{\n",
      "  int M; //number of years analyzed\n",
      "  int y[M]; //number of fatal accidents\n",
      "}\n",
      "parameters{\n",
      "  real<lower=0>lambda;\n",
      "}\n",
      "model{\n",
      "  lambda ~ normal(0,121);\n",
      "  for(i in 1:M){\n",
      "    y[i] ~ poisson(lambda);\n",
      "  }\n",
      "}\n",
      "generated quantities{\n",
      "  int y_sim[M];\n",
      "  for(i in 1:M){\n",
      "    y_sim[i] = poisson_rng(lambda);\n",
      "  }\n",
      "}\n",
      "\n"
     ]
    }
   ],
   "source": [
    "#Posterior interference and posterior predictive checks\n",
    "with open('PosteriorPredictiveCheck.stan', 'r') as file:\n",
    "    print(file.read())"
   ]
  },
  {
   "cell_type": "code",
   "execution_count": 67,
   "metadata": {},
   "outputs": [
    {
     "name": "stdout",
     "output_type": "stream",
     "text": [
      "Using cached StanModel\n"
     ]
    }
   ],
   "source": [
    "model = stan_utility.compile_model('PosteriorPredictiveCheck.stan')"
   ]
  },
  {
   "cell_type": "code",
   "execution_count": 77,
   "metadata": {},
   "outputs": [],
   "source": [
    "data = dict(M = len(AccidentsData),\n",
    "           y = AccidentsData['Fatal accidents'])\n",
    "fit = model.sampling(data=data, seed=20062020)\n",
    "\n",
    "params=fit.extract()\n",
    "lam=params['lambda']\n",
    "y_sim=params['y_sim']"
   ]
  },
  {
   "cell_type": "code",
   "execution_count": 69,
   "metadata": {},
   "outputs": [],
   "source": [
    "mean_lam = np.mean(lam)\n",
    "cinf_lam = az.hpd(lam,0.89)\n",
    "\n",
    "hpd_width=cinf_lam[1]-cinf_lam[0]"
   ]
  },
  {
   "cell_type": "code",
   "execution_count": 76,
   "metadata": {},
   "outputs": [
    {
     "name": "stdout",
     "output_type": "stream",
     "text": [
      "Mean lambda: 23.89\n",
      "89% confidence interval: [21.27, 26.12]\n"
     ]
    }
   ],
   "source": [
    "print('Mean lambda: {:4.2f}'.format(mean_lam))\n",
    "print('89% confidence interval: [{:4.2f}'.format(cinf_lam[0])+', {:4.2f}'.format(cinf_lam[1])+']')"
   ]
  },
  {
   "cell_type": "code",
   "execution_count": 78,
   "metadata": {},
   "outputs": [
    {
     "name": "stdout",
     "output_type": "stream",
     "text": [
      "Mean of predicted accidents = 24.0\n",
      "Confidence interval = [ 15.0 31.0 ]\n"
     ]
    }
   ],
   "source": [
    "median_y_sim = np.median(y_sim.flatten())\n",
    "cinf_y_sim = az.hpd(y_sim.flatten(),0.89)\n",
    "\n",
    "print('Mean of predicted accidents =', median_y_sim)\n",
    "print('Confidence interval = [',*cinf_y_sim,']')"
   ]
  },
  {
   "cell_type": "code",
   "execution_count": 105,
   "metadata": {},
   "outputs": [
    {
     "name": "stdout",
     "output_type": "stream",
     "text": [
      "theta upper bound = 0.055\n"
     ]
    }
   ],
   "source": [
    "#Now we consider model in whitch rate is a product of intensity and miles flown\n",
    "\n",
    "#assigning the prior for theta that would hveprobability of smaller lambda equal 99%\n",
    "\n",
    "mean_miles=np.mean(AccidentsData['Miles flown [100 mln miles]'])\n",
    "root_of_theta=np.polynomial.polynomial.polyroots([-365/mean_miles,3./np.sqrt(mean_miles),1.])\n",
    "theta_ub=(root_of_theta[root_of_lam>0]**2)\n",
    "print('theta upper bound =','{:4.3f}'.format(theta_ub[0]))"
   ]
  },
  {
   "cell_type": "code",
   "execution_count": 107,
   "metadata": {},
   "outputs": [
    {
     "name": "stdout",
     "output_type": "stream",
     "text": [
      "sigma = 0.021\n"
     ]
    }
   ],
   "source": [
    "#we're tuning again, but this time for theta, so halfnormal dist will be thinner\n",
    "data=dict(y_guess=np.array([np.log(0.01)]), theta=np.array(theta_ub))\n",
    "tuned2 = tuning.sampling(data=data,\n",
    "                        seed=20062020,\n",
    "                        algorithm=\"Fixed_param\",\n",
    "                        iter=1,\n",
    "                        warmup=0,\n",
    "                        chains=1)\n",
    "sigma = (tuned2.extract()['sigma'][0])\n",
    "print('sigma = {:4.3f}'.format(sigma))"
   ]
  },
  {
   "cell_type": "code",
   "execution_count": 110,
   "metadata": {},
   "outputs": [
    {
     "data": {
      "image/png": "[encoded data removed]",
      "text/plain": [
       "<Figure size 504x288 with 1 Axes>"
      ]
     },
     "metadata": {
      "needs_background": "light"
     },
     "output_type": "display_data"
    }
   ],
   "source": [
    "fig, ax2 = plt.subplots(1,1,figsize=(7,4))\n",
    "x2=np.linspace(0,3*sigma,1000)\n",
    "x4=np.linspace(0,theta_ub[0],1000)\n",
    "ax2.plot(x4,2*stats.norm.pdf(x2,scale=sigma), color=dark, linewidth=2)\n",
    "ax2.fill_between(x4,2*stats.norm.pdf(x4,scale=sigma),0, color=dark)\n",
    "ax2.set_yticks([])\n",
    "ax2.set_xticks([0,theta_ub[0]])\n",
    "ax2.set_xticklabels([0,0.055])\n",
    "ax2.set_title(r'$\\theta$')\n",
    "plt.show()"
   ]
  },
  {
   "cell_type": "code",
   "execution_count": 111,
   "metadata": {},
   "outputs": [
    {
     "name": "stdout",
     "output_type": "stream",
     "text": [
      "data {\n",
      "  int M; //number of years analyzed\n",
      "  vector[M] miles; //number of miles flown each year\n",
      "}\n",
      "\n",
      "generated quantities {\n",
      "  real theta = fabs(normal_rng(0,0.021));\n",
      "  int y_sim[M];\n",
      "  for (i in 1:M) {\n",
      "    y_sim[i] = poisson_rng(theta*miles[i]);\n",
      "  }\n",
      "}\n",
      "\n"
     ]
    }
   ],
   "source": [
    "with open('hnorm_PPC_miles.stan', 'r') as file:\n",
    "    print(file.read())"
   ]
  },
  {
   "cell_type": "code",
   "execution_count": 116,
   "metadata": {},
   "outputs": [
    {
     "name": "stdout",
     "output_type": "stream",
     "text": [
      "Using cached StanModel\n"
     ]
    }
   ],
   "source": [
    "model_prior=stan_utility.compile_model('hnorm_PPC_miles.stan')"
   ]
  },
  {
   "cell_type": "code",
   "execution_count": 117,
   "metadata": {},
   "outputs": [],
   "source": [
    "data_prior=dict(M=len(AccidentsData), miles=AccidentsData['Miles flown [100 mln miles]'])\n",
    "sim_uf = model_prior.sampling(data=data_prior,\n",
    "                             algorithm=\"Fixed_param\",\n",
    "                             iter=1000,\n",
    "                             warmup=0,\n",
    "                             chains=1,\n",
    "                             refresh=1000,\n",
    "                             seed=20062020)"
   ]
  },
  {
   "cell_type": "code",
   "execution_count": 129,
   "metadata": {},
   "outputs": [
    {
     "data": {
      "image/png": "[encoded data removed]",
      "text/plain": [
       "<Figure size 504x288 with 1 Axes>"
      ]
     },
     "metadata": {
      "needs_background": "light"
     },
     "output_type": "display_data"
    }
   ],
   "source": [
    "params=sim_uf.extract()\n",
    "theta=params['theta']\n",
    "\n",
    "fig, axes = plt.subplots(1,1,figsize=(7,4))\n",
    "ax1=axes\n",
    "ax1.hist(theta,bins=20,color=dark,edgecolor=dark_highlight, density=True)\n",
    "x=np.linspace(0,1.2*theta_ub[0],2000)\n",
    "ax1.set_xticks([0,theta_ub[0]])\n",
    "ax1.set_xticklabels([0,0.055])\n",
    "ax1.set_yticks([])\n",
    "ax1.set_title(r'$\\theta$')\n",
    "ax1.plot(x,2*stats.norm.pdf(x,0,sigma), color='black', linestyle='--')\n",
    "arr_y_loc = 2*stats.norm.pdf(150,0,sigma)\n",
    "ax1.annotate('HalfNormal(0,'+str(np.int(sigma))+')', xy=(0.025,arr_y_loc))\n",
    "plt.show()"
   ]
  },
  {
   "cell_type": "code",
   "execution_count": 135,
   "metadata": {},
   "outputs": [
    {
     "data": {
      "image/png": "[encoded data removed]",
      "text/plain": [
       "<Figure size 504x576 with 10 Axes>"
      ]
     },
     "metadata": {
      "needs_background": "light"
     },
     "output_type": "display_data"
    }
   ],
   "source": [
    "#results are consistent, we can continue\n",
    "\n",
    "y_sim=params['y_sim']\n",
    "fig, axes = plt.subplots(5,2,figsize=(7,8),sharey=True, squeeze=False)\n",
    "axes_flat=axes.flatten()\n",
    "\n",
    "for i in range(len(axes_flat)):\n",
    "    ax = axes_flat[i]\n",
    "    ax.hist(y_sim[:,i], bins=20, color=dark,edgecolor=dark_highlight)\n",
    "    ax.set_title(AccidentsData.index[i])\n",
    "    tv=AccidentsData['Fatal accidents'].iloc[i]\n",
    "    ax.plot([tv,tv], [0,0.02], linestyle='--', color='black')\n",
    "    ax.set_yticks([])\n",
    "    ax.set_xticks([0,tv,365])\n",
    "    ax.set_xticklabels(['',tv,365])\n",
    "\n",
    "fig.tight_layout()\n",
    "\n",
    "plt.show()"
   ]
  },
  {
   "cell_type": "code",
   "execution_count": 136,
   "metadata": {},
   "outputs": [
    {
     "name": "stdout",
     "output_type": "stream",
     "text": [
      "data{\n",
      "  int M; //number of years analyzed\n",
      "  vector[M] miles; //number of miles flown each year\n",
      "  int y[M]; //number of fatal accidents\n",
      "}\n",
      "parameters{\n",
      "  real<lower=0>theta;\n",
      "}\n",
      "model{\n",
      "  theta ~ normal(0,0.021);\n",
      "  for(i in 1:M){\n",
      "    y[i] ~ poisson(miles[i]*theta);\n",
      "  }\n",
      "}\n",
      "generated quantities{\n",
      "  int y_sim[M];\n",
      "  for(i in 1:M){\n",
      "    y_sim[i] = poisson_rng(miles[i]*theta);\n",
      "  }\n",
      "}\n",
      "\n"
     ]
    }
   ],
   "source": [
    "with open('PosteriorPredictiveCheck_miles.stan', 'r') as file:\n",
    "    print(file.read())\n",
    "#this model is very similiar to previous prior predictive check, but with miles"
   ]
  },
  {
   "cell_type": "code",
   "execution_count": 141,
   "metadata": {},
   "outputs": [
    {
     "name": "stdout",
     "output_type": "stream",
     "text": [
      "Using cached StanModel\n"
     ]
    }
   ],
   "source": [
    "model_miles = stan_utility.compile_model('PosteriorPredictiveCheck_miles.stan')"
   ]
  },
  {
   "cell_type": "code",
   "execution_count": 142,
   "metadata": {},
   "outputs": [],
   "source": [
    "data = dict(M=len(AccidentsData),\n",
    "           miles = AccidentsData['Miles flown [100 mln miles]'],\n",
    "           y = AccidentsData['Fatal accidents'])\n",
    "fit = model_miles.sampling(data=data, seed = 20062020)\n",
    "\n",
    "params_miles = fit.extract()\n",
    "theta = params_miles['theta']\n",
    "y_sim = params_miles['y_sim']"
   ]
  },
  {
   "cell_type": "code",
   "execution_count": 149,
   "metadata": {},
   "outputs": [
    {
     "name": "stdout",
     "output_type": "stream",
     "text": [
      "Mean theta = 0.0042\n",
      "Confidence interval = [0.0038, 0.0046]\n"
     ]
    }
   ],
   "source": [
    "mean_theta = np.mean(theta)\n",
    "cinf_theta = az.hpd(theta,0.89)\n",
    "hpd_width = cinf_theta[1]-cinf_theta[0]\n",
    "\n",
    "print('Mean theta = {:5.4f}'.format(mean_theta))\n",
    "print('Confidence interval = [{:5.4f}'.format(cinf_theta[0])+', {:5.4f}'.format(cinf_theta[1])+']')"
   ]
  },
  {
   "cell_type": "code",
   "execution_count": 151,
   "metadata": {},
   "outputs": [
    {
     "data": {
      "image/png": "[encoded data removed]",
      "text/plain": [
       "<Figure size 504x576 with 10 Axes>"
      ]
     },
     "metadata": {
      "needs_background": "light"
     },
     "output_type": "display_data"
    }
   ],
   "source": [
    "y_sim=params_miles['y_sim']\n",
    "fig, axes = plt.subplots(5,2,figsize=(7,8),sharey=True, squeeze=False)\n",
    "axes_flat=axes.flatten()\n",
    "\n",
    "for i in range(len(axes_flat)):\n",
    "    ax = axes_flat[i]\n",
    "    ax.hist(y_sim[:,i], bins=20, color=dark,edgecolor=dark_highlight)\n",
    "    ax.set_title(AccidentsData.index[i])\n",
    "    tv=AccidentsData['Fatal accidents'].iloc[i]\n",
    "    ax.plot([tv,tv], [0,0.15], linestyle='--', color='black')\n",
    "    ax.set_yticks([])\n",
    "    ax.set_xticks([0,tv,50])\n",
    "    ax.set_xticklabels(['',tv,50])\n",
    "\n",
    "fig.tight_layout()\n",
    "\n",
    "plt.show()"
   ]
  },
  {
   "cell_type": "code",
   "execution_count": null,
   "metadata": {},
   "outputs": [],
   "source": [
    "#Results even though are inside our field of prediction, thet are located more to the edges of that field.\n",
    "#We can notice, that in earlier years their vaues are higher than predicted, and in later years lower than predicted.\n",
    "#This indicates that the is another factor to these statiscics, probably safety regulations, being developed over years."
   ]
  }
 ],
 "metadata": {
  "kernelspec": {
   "display_name": "Python 3",
   "language": "python",
   "name": "python3"
  },
  "language_info": {
   "codemirror_mode": {
    "name": "ipython",
    "version": 3
   },
   "file_extension": ".py",
   "mimetype": "text/x-python",
   "name": "python",
   "nbconvert_exporter": "python",
   "pygments_lexer": "ipython3",
   "version": "3.7.4"
  }
 },
 "nbformat": 4,
 "nbformat_minor": 4
}
